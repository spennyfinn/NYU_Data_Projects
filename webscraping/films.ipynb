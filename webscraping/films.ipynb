{
 "cells": [
  {
   "cell_type": "code",
   "execution_count": 31,
   "metadata": {},
   "outputs": [],
   "source": [
    "import requests\n",
    "import pandas as pd\n"
   ]
  },
  {
   "cell_type": "markdown",
   "metadata": {},
   "source": [
    "## Interesting Keys\n",
    "* director\n",
    "* rt_score"
   ]
  },
  {
   "cell_type": "markdown",
   "metadata": {},
   "source": [
    "## Incrementing the url\n",
    "* when incremeenting the url page atttribute, it provides another page from the source. Thus, we are able to scrape more information from the website and aren't limited to the contents on one page. "
   ]
  },
  {
   "cell_type": "code",
   "execution_count": 33,
   "metadata": {},
   "outputs": [
    {
     "data": {
      "text/html": [
       "<div>\n",
       "<style scoped>\n",
       "    .dataframe tbody tr th:only-of-type {\n",
       "        vertical-align: middle;\n",
       "    }\n",
       "\n",
       "    .dataframe tbody tr th {\n",
       "        vertical-align: top;\n",
       "    }\n",
       "\n",
       "    .dataframe thead th {\n",
       "        text-align: right;\n",
       "    }\n",
       "</style>\n",
       "<table border=\"1\" class=\"dataframe\">\n",
       "  <thead>\n",
       "    <tr style=\"text-align: right;\">\n",
       "      <th></th>\n",
       "      <th>avg_rt_score</th>\n",
       "      <th>count</th>\n",
       "    </tr>\n",
       "    <tr>\n",
       "      <th>director</th>\n",
       "      <th></th>\n",
       "      <th></th>\n",
       "    </tr>\n",
       "  </thead>\n",
       "  <tbody>\n",
       "    <tr>\n",
       "      <th>Hiromasa Yonebayashi</th>\n",
       "      <td>93.500000</td>\n",
       "      <td>2</td>\n",
       "    </tr>\n",
       "    <tr>\n",
       "      <th>Michaël Dudok de Wit</th>\n",
       "      <td>93.000000</td>\n",
       "      <td>1</td>\n",
       "    </tr>\n",
       "    <tr>\n",
       "      <th>Hayao Miyazaki</th>\n",
       "      <td>92.777778</td>\n",
       "      <td>9</td>\n",
       "    </tr>\n",
       "    <tr>\n",
       "      <th>Yoshifumi Kondō</th>\n",
       "      <td>91.000000</td>\n",
       "      <td>1</td>\n",
       "    </tr>\n",
       "    <tr>\n",
       "      <th>Isao Takahata</th>\n",
       "      <td>90.000000</td>\n",
       "      <td>5</td>\n",
       "    </tr>\n",
       "    <tr>\n",
       "      <th>Hiroyuki Morita</th>\n",
       "      <td>89.000000</td>\n",
       "      <td>1</td>\n",
       "    </tr>\n",
       "    <tr>\n",
       "      <th>Gorō Miyazaki</th>\n",
       "      <td>62.000000</td>\n",
       "      <td>2</td>\n",
       "    </tr>\n",
       "  </tbody>\n",
       "</table>\n",
       "</div>"
      ],
      "text/plain": [
       "                      avg_rt_score  count\n",
       "director                                 \n",
       "Hiromasa Yonebayashi     93.500000      2\n",
       "Michaël Dudok de Wit     93.000000      1\n",
       "Hayao Miyazaki           92.777778      9\n",
       "Yoshifumi Kondō          91.000000      1\n",
       "Isao Takahata            90.000000      5\n",
       "Hiroyuki Morita          89.000000      1\n",
       "Gorō Miyazaki            62.000000      2"
      ]
     },
     "execution_count": 33,
     "metadata": {},
     "output_type": "execute_result"
    }
   ],
   "source": [
    "#set page to 1\n",
    "page = 1\n",
    "#how I am storing the data\n",
    "data_li = []\n",
    "\n",
    "#don't stop until a condition fails\n",
    "while True:\n",
    "    #base url with the page variable\n",
    "    url = f'http://linserv1.cims.nyu.edu:10000/films?_page={page}'\n",
    "    #get the request from the url\n",
    "    resp = requests.get(url)\n",
    "    #if the response code is not 200...break\n",
    "    if resp.status_code != 200:\n",
    "        break\n",
    "    #read the file using .json()\n",
    "    file =resp.json()\n",
    "    #if the file is empty...break\n",
    "    if len(file) == 0:\n",
    "         break\n",
    "    #for each movie in the file...\n",
    "    for data in file:\n",
    "        #get director\n",
    "        director = data['director']\n",
    "        #get the rt score\n",
    "        score = int(data[\"rt_score\"])\n",
    "        #append the director and score to the list\n",
    "        data_li.append([director, score])\n",
    "    #increment page\n",
    "    page+=1\n",
    "#load data into DF\n",
    "df = pd.DataFrame(data_li)\n",
    "#rename columns\n",
    "df.columns = ['director', 'rt_score']\n",
    "#group the data by the director and calulcate the mean of their scores and the count\n",
    "df=df.groupby('director').agg(\n",
    "    avg_rt_score = ('rt_score', 'mean'),\n",
    "    count = ('rt_score', 'count')\n",
    ")\n",
    "#reorder the rows\n",
    "df= df.iloc[[2, 5, 1,6, 4, 3,0 ]]\n",
    "#print the df for visualization :)\n",
    "df\n",
    "\n"
   ]
  }
 ],
 "metadata": {
  "kernelspec": {
   "display_name": "Python 3 (ipykernel)",
   "language": "python",
   "name": "python3"
  },
  "language_info": {
   "codemirror_mode": {
    "name": "ipython",
    "version": 3
   },
   "file_extension": ".py",
   "mimetype": "text/x-python",
   "name": "python",
   "nbconvert_exporter": "python",
   "pygments_lexer": "ipython3",
   "version": "3.13.1"
  }
 },
 "nbformat": 4,
 "nbformat_minor": 4
}
